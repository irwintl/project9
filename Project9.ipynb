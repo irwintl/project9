{
 "cells": [
  {
   "cell_type": "markdown",
   "id": "7d8a7a8e",
   "metadata": {},
   "source": [
    "# Project 9\n",
    "#### Thomas Irwin\n",
    "\n",
    "### Part 1\n",
    "\n",
    "For this project, I did a further analysis on the outcomes of first year students at Whitman College. My goal for this project was to create a tool for incoming students at Whitman College.\n",
    "\n",
    "My imagined scenario is a student who wants to take a difficult course sometime in their freshman year, but wants to find the best scheduling strategy. Which courses best compliment this course? Is it better to take the course in the spring once this student has found their bearings? Additionally, how could the Whitman administration use this analysis for course offerings and advising purposes?\n",
    "\n",
    "First, we need to define success. I want a metric that is intuitive and easily comparable. I know that I may lose specifics, but for the purposes of providing broad generalizations, I don't particularly mind. \n",
    "\n",
    "The metric I used is added medians for each of the fall/spring pairing for the two given courses, which I refer to as \"Total GPA.\"\n",
    "\n",
    "I've included some exploratory code I used as I was re-investigating the data set. "
   ]
  },
  {
   "cell_type": "code",
   "execution_count": 69,
   "id": "e4e4e4d6",
   "metadata": {},
   "outputs": [],
   "source": [
    "import pandas as pd\n",
    "import numpy as np\n",
    "import matplotlib.pyplot as plt"
   ]
  },
  {
   "cell_type": "code",
   "execution_count": 70,
   "id": "d716afce",
   "metadata": {},
   "outputs": [],
   "source": [
    "indiv = pd.read_excel(\"STEM Outcomes Individual Data 2002 - 2018 (anon).xlsx\")\n",
    "grades = pd.read_excel(\"STEM Outcomes Grades 2002 - 2018 (anon).xlsx\")"
   ]
  },
  {
   "cell_type": "code",
   "execution_count": 71,
   "id": "d6f69301",
   "metadata": {},
   "outputs": [
    {
     "name": "stdout",
     "output_type": "stream",
     "text": [
      "6766\n",
      "75805\n"
     ]
    }
   ],
   "source": [
    "print(len(indiv))\n",
    "print(len(grades))"
   ]
  },
  {
   "cell_type": "code",
   "execution_count": 72,
   "id": "aecdba16",
   "metadata": {},
   "outputs": [
    {
     "data": {
      "text/html": [
       "<div>\n",
       "<style scoped>\n",
       "    .dataframe tbody tr th:only-of-type {\n",
       "        vertical-align: middle;\n",
       "    }\n",
       "\n",
       "    .dataframe tbody tr th {\n",
       "        vertical-align: top;\n",
       "    }\n",
       "\n",
       "    .dataframe thead th {\n",
       "        text-align: right;\n",
       "    }\n",
       "</style>\n",
       "<table border=\"1\" class=\"dataframe\">\n",
       "  <thead>\n",
       "    <tr style=\"text-align: right;\">\n",
       "      <th></th>\n",
       "      <th>Unnamed: 0</th>\n",
       "      <th>Student ID</th>\n",
       "      <th>Start Term</th>\n",
       "      <th>End Date</th>\n",
       "      <th>Gender</th>\n",
       "      <th>Races</th>\n",
       "      <th>Ethnicity</th>\n",
       "      <th>First Generation</th>\n",
       "      <th>Major 1</th>\n",
       "      <th>Major 2</th>\n",
       "      <th>Major 3</th>\n",
       "    </tr>\n",
       "  </thead>\n",
       "  <tbody>\n",
       "    <tr>\n",
       "      <th>0</th>\n",
       "      <td>0</td>\n",
       "      <td>-93682460119976992</td>\n",
       "      <td>2002FA</td>\n",
       "      <td>2005-05-22</td>\n",
       "      <td>F</td>\n",
       "      <td>WH</td>\n",
       "      <td>NHS</td>\n",
       "      <td>N</td>\n",
       "      <td>GE.AS</td>\n",
       "      <td>NaN</td>\n",
       "      <td>NaN</td>\n",
       "    </tr>\n",
       "    <tr>\n",
       "      <th>1</th>\n",
       "      <td>1</td>\n",
       "      <td>6162924226455414784</td>\n",
       "      <td>2002FA</td>\n",
       "      <td>2004-02-02</td>\n",
       "      <td>F</td>\n",
       "      <td>WH</td>\n",
       "      <td>NHS</td>\n",
       "      <td>N</td>\n",
       "      <td>NaN</td>\n",
       "      <td>NaN</td>\n",
       "      <td>NaN</td>\n",
       "    </tr>\n",
       "    <tr>\n",
       "      <th>2</th>\n",
       "      <td>2</td>\n",
       "      <td>-8298550864126102528</td>\n",
       "      <td>2002FA</td>\n",
       "      <td>2006-05-21</td>\n",
       "      <td>F</td>\n",
       "      <td>WH</td>\n",
       "      <td>NHS</td>\n",
       "      <td>N</td>\n",
       "      <td>GEOL</td>\n",
       "      <td>NaN</td>\n",
       "      <td>NaN</td>\n",
       "    </tr>\n",
       "    <tr>\n",
       "      <th>3</th>\n",
       "      <td>3</td>\n",
       "      <td>2287868604364420096</td>\n",
       "      <td>2002FA</td>\n",
       "      <td>2006-05-21</td>\n",
       "      <td>F</td>\n",
       "      <td>WH</td>\n",
       "      <td>NHS</td>\n",
       "      <td>N</td>\n",
       "      <td>ASNS</td>\n",
       "      <td>NaN</td>\n",
       "      <td>NaN</td>\n",
       "    </tr>\n",
       "    <tr>\n",
       "      <th>4</th>\n",
       "      <td>4</td>\n",
       "      <td>5188866498457584640</td>\n",
       "      <td>2002FA</td>\n",
       "      <td>2007-05-20</td>\n",
       "      <td>F</td>\n",
       "      <td>WH</td>\n",
       "      <td>NHS</td>\n",
       "      <td>N</td>\n",
       "      <td>ART</td>\n",
       "      <td>NaN</td>\n",
       "      <td>NaN</td>\n",
       "    </tr>\n",
       "  </tbody>\n",
       "</table>\n",
       "</div>"
      ],
      "text/plain": [
       "   Unnamed: 0           Student ID Start Term   End Date Gender Races  \\\n",
       "0           0   -93682460119976992     2002FA 2005-05-22      F    WH   \n",
       "1           1  6162924226455414784     2002FA 2004-02-02      F    WH   \n",
       "2           2 -8298550864126102528     2002FA 2006-05-21      F    WH   \n",
       "3           3  2287868604364420096     2002FA 2006-05-21      F    WH   \n",
       "4           4  5188866498457584640     2002FA 2007-05-20      F    WH   \n",
       "\n",
       "  Ethnicity First Generation Major 1 Major 2 Major 3  \n",
       "0       NHS                N   GE.AS     NaN     NaN  \n",
       "1       NHS                N     NaN     NaN     NaN  \n",
       "2       NHS                N    GEOL     NaN     NaN  \n",
       "3       NHS                N    ASNS     NaN     NaN  \n",
       "4       NHS                N     ART     NaN     NaN  "
      ]
     },
     "execution_count": 72,
     "metadata": {},
     "output_type": "execute_result"
    }
   ],
   "source": [
    "indiv.head()\n"
   ]
  },
  {
   "cell_type": "code",
   "execution_count": 73,
   "id": "bd14c163",
   "metadata": {},
   "outputs": [
    {
     "data": {
      "text/html": [
       "<div>\n",
       "<style scoped>\n",
       "    .dataframe tbody tr th:only-of-type {\n",
       "        vertical-align: middle;\n",
       "    }\n",
       "\n",
       "    .dataframe tbody tr th {\n",
       "        vertical-align: top;\n",
       "    }\n",
       "\n",
       "    .dataframe thead th {\n",
       "        text-align: right;\n",
       "    }\n",
       "</style>\n",
       "<table border=\"1\" class=\"dataframe\">\n",
       "  <thead>\n",
       "    <tr style=\"text-align: right;\">\n",
       "      <th></th>\n",
       "      <th>Unnamed: 0</th>\n",
       "      <th>Student ID</th>\n",
       "      <th>Term</th>\n",
       "      <th>Academic Division</th>\n",
       "      <th>Subject</th>\n",
       "      <th>Course Number</th>\n",
       "      <th>Course Title</th>\n",
       "      <th>Credits</th>\n",
       "      <th>Grade</th>\n",
       "    </tr>\n",
       "  </thead>\n",
       "  <tbody>\n",
       "    <tr>\n",
       "      <th>0</th>\n",
       "      <td>0</td>\n",
       "      <td>6602904443393593344</td>\n",
       "      <td>2004SP</td>\n",
       "      <td>2</td>\n",
       "      <td>THTR</td>\n",
       "      <td>126</td>\n",
       "      <td>Beginning Acting II</td>\n",
       "      <td>3</td>\n",
       "      <td>4.0</td>\n",
       "    </tr>\n",
       "    <tr>\n",
       "      <th>1</th>\n",
       "      <td>1</td>\n",
       "      <td>6602904443393593344</td>\n",
       "      <td>2004FA</td>\n",
       "      <td>2</td>\n",
       "      <td>THTR</td>\n",
       "      <td>225</td>\n",
       "      <td>Intermediate Acting</td>\n",
       "      <td>4</td>\n",
       "      <td>3.7</td>\n",
       "    </tr>\n",
       "    <tr>\n",
       "      <th>2</th>\n",
       "      <td>2</td>\n",
       "      <td>-2039589217076994048</td>\n",
       "      <td>2005SP</td>\n",
       "      <td>1</td>\n",
       "      <td>SSRA</td>\n",
       "      <td>104</td>\n",
       "      <td>Stretch and Strength</td>\n",
       "      <td>1</td>\n",
       "      <td>NaN</td>\n",
       "    </tr>\n",
       "    <tr>\n",
       "      <th>3</th>\n",
       "      <td>3</td>\n",
       "      <td>5859295354834180096</td>\n",
       "      <td>2007FA</td>\n",
       "      <td>2</td>\n",
       "      <td>MUS</td>\n",
       "      <td>300</td>\n",
       "      <td>Foreign Diction - Singers</td>\n",
       "      <td>3</td>\n",
       "      <td>4.0</td>\n",
       "    </tr>\n",
       "    <tr>\n",
       "      <th>4</th>\n",
       "      <td>4</td>\n",
       "      <td>5859295354834180096</td>\n",
       "      <td>2008SP</td>\n",
       "      <td>2</td>\n",
       "      <td>MUS</td>\n",
       "      <td>252</td>\n",
       "      <td>SpEns:Chamber Singers</td>\n",
       "      <td>1</td>\n",
       "      <td>4.0</td>\n",
       "    </tr>\n",
       "  </tbody>\n",
       "</table>\n",
       "</div>"
      ],
      "text/plain": [
       "   Unnamed: 0           Student ID    Term  Academic Division Subject  \\\n",
       "0           0  6602904443393593344  2004SP                  2    THTR   \n",
       "1           1  6602904443393593344  2004FA                  2    THTR   \n",
       "2           2 -2039589217076994048  2005SP                  1    SSRA   \n",
       "3           3  5859295354834180096  2007FA                  2     MUS   \n",
       "4           4  5859295354834180096  2008SP                  2     MUS   \n",
       "\n",
       "  Course Number               Course Title  Credits  Grade  \n",
       "0           126        Beginning Acting II        3    4.0  \n",
       "1           225        Intermediate Acting        4    3.7  \n",
       "2           104       Stretch and Strength        1    NaN  \n",
       "3           300  Foreign Diction - Singers        3    4.0  \n",
       "4           252      SpEns:Chamber Singers        1    4.0  "
      ]
     },
     "execution_count": 73,
     "metadata": {},
     "output_type": "execute_result"
    }
   ],
   "source": [
    "grades.head()"
   ]
  },
  {
   "cell_type": "code",
   "execution_count": 74,
   "id": "cbfac32e",
   "metadata": {},
   "outputs": [],
   "source": [
    "math_grades = grades[(grades[\"Subject\"] == \"MATH\") & (grades[\"Course Number\"] == 225)]"
   ]
  },
  {
   "cell_type": "code",
   "execution_count": 75,
   "id": "19f2600b",
   "metadata": {},
   "outputs": [],
   "source": [
    "math_grades = math_grades[math_grades[\"Course Number\"] == 225]"
   ]
  },
  {
   "cell_type": "code",
   "execution_count": 76,
   "id": "f28b56e8",
   "metadata": {},
   "outputs": [
    {
     "data": {
      "text/html": [
       "<div>\n",
       "<style scoped>\n",
       "    .dataframe tbody tr th:only-of-type {\n",
       "        vertical-align: middle;\n",
       "    }\n",
       "\n",
       "    .dataframe tbody tr th {\n",
       "        vertical-align: top;\n",
       "    }\n",
       "\n",
       "    .dataframe thead th {\n",
       "        text-align: right;\n",
       "    }\n",
       "</style>\n",
       "<table border=\"1\" class=\"dataframe\">\n",
       "  <thead>\n",
       "    <tr style=\"text-align: right;\">\n",
       "      <th></th>\n",
       "      <th>Unnamed: 0</th>\n",
       "      <th>Student ID</th>\n",
       "      <th>Term</th>\n",
       "      <th>Academic Division</th>\n",
       "      <th>Subject</th>\n",
       "      <th>Course Number</th>\n",
       "      <th>Course Title</th>\n",
       "      <th>Credits</th>\n",
       "      <th>Grade</th>\n",
       "    </tr>\n",
       "  </thead>\n",
       "  <tbody>\n",
       "    <tr>\n",
       "      <th>65</th>\n",
       "      <td>65</td>\n",
       "      <td>-4951052364792913920</td>\n",
       "      <td>2003SP</td>\n",
       "      <td>3</td>\n",
       "      <td>MATH</td>\n",
       "      <td>225</td>\n",
       "      <td>Calculus III</td>\n",
       "      <td>4</td>\n",
       "      <td>4.0</td>\n",
       "    </tr>\n",
       "    <tr>\n",
       "      <th>174</th>\n",
       "      <td>174</td>\n",
       "      <td>8194935347251002368</td>\n",
       "      <td>2004FA</td>\n",
       "      <td>3</td>\n",
       "      <td>MATH</td>\n",
       "      <td>225</td>\n",
       "      <td>Calculus III</td>\n",
       "      <td>4</td>\n",
       "      <td>3.3</td>\n",
       "    </tr>\n",
       "    <tr>\n",
       "      <th>198</th>\n",
       "      <td>198</td>\n",
       "      <td>-718625941903548288</td>\n",
       "      <td>2017SP</td>\n",
       "      <td>3</td>\n",
       "      <td>MATH</td>\n",
       "      <td>225</td>\n",
       "      <td>Calculus III</td>\n",
       "      <td>4</td>\n",
       "      <td>3.7</td>\n",
       "    </tr>\n",
       "    <tr>\n",
       "      <th>217</th>\n",
       "      <td>217</td>\n",
       "      <td>-3770815134055052800</td>\n",
       "      <td>2010SP</td>\n",
       "      <td>3</td>\n",
       "      <td>MATH</td>\n",
       "      <td>225</td>\n",
       "      <td>Calculus III</td>\n",
       "      <td>4</td>\n",
       "      <td>1.0</td>\n",
       "    </tr>\n",
       "    <tr>\n",
       "      <th>304</th>\n",
       "      <td>304</td>\n",
       "      <td>-8088322079901219840</td>\n",
       "      <td>2003SP</td>\n",
       "      <td>3</td>\n",
       "      <td>MATH</td>\n",
       "      <td>225</td>\n",
       "      <td>Calculus III</td>\n",
       "      <td>4</td>\n",
       "      <td>3.0</td>\n",
       "    </tr>\n",
       "    <tr>\n",
       "      <th>...</th>\n",
       "      <td>...</td>\n",
       "      <td>...</td>\n",
       "      <td>...</td>\n",
       "      <td>...</td>\n",
       "      <td>...</td>\n",
       "      <td>...</td>\n",
       "      <td>...</td>\n",
       "      <td>...</td>\n",
       "      <td>...</td>\n",
       "    </tr>\n",
       "    <tr>\n",
       "      <th>75456</th>\n",
       "      <td>75456</td>\n",
       "      <td>4621391436657051648</td>\n",
       "      <td>2018SP</td>\n",
       "      <td>3</td>\n",
       "      <td>MATH</td>\n",
       "      <td>225</td>\n",
       "      <td>Calculus III</td>\n",
       "      <td>4</td>\n",
       "      <td>2.0</td>\n",
       "    </tr>\n",
       "    <tr>\n",
       "      <th>75483</th>\n",
       "      <td>75483</td>\n",
       "      <td>4971633472316557312</td>\n",
       "      <td>2017FA</td>\n",
       "      <td>3</td>\n",
       "      <td>MATH</td>\n",
       "      <td>225</td>\n",
       "      <td>Calculus III</td>\n",
       "      <td>4</td>\n",
       "      <td>4.0</td>\n",
       "    </tr>\n",
       "    <tr>\n",
       "      <th>75597</th>\n",
       "      <td>75597</td>\n",
       "      <td>-1256089431470343936</td>\n",
       "      <td>2018SP</td>\n",
       "      <td>3</td>\n",
       "      <td>MATH</td>\n",
       "      <td>225</td>\n",
       "      <td>Calculus III</td>\n",
       "      <td>4</td>\n",
       "      <td>4.0</td>\n",
       "    </tr>\n",
       "    <tr>\n",
       "      <th>75640</th>\n",
       "      <td>75640</td>\n",
       "      <td>-3560550113868125184</td>\n",
       "      <td>2017FA</td>\n",
       "      <td>3</td>\n",
       "      <td>MATH</td>\n",
       "      <td>225</td>\n",
       "      <td>Calculus III</td>\n",
       "      <td>4</td>\n",
       "      <td>3.3</td>\n",
       "    </tr>\n",
       "    <tr>\n",
       "      <th>75659</th>\n",
       "      <td>75659</td>\n",
       "      <td>3187828007594472960</td>\n",
       "      <td>2018SP</td>\n",
       "      <td>3</td>\n",
       "      <td>MATH</td>\n",
       "      <td>225</td>\n",
       "      <td>Calculus III</td>\n",
       "      <td>4</td>\n",
       "      <td>3.0</td>\n",
       "    </tr>\n",
       "  </tbody>\n",
       "</table>\n",
       "<p>873 rows × 9 columns</p>\n",
       "</div>"
      ],
      "text/plain": [
       "       Unnamed: 0           Student ID    Term  Academic Division Subject  \\\n",
       "65             65 -4951052364792913920  2003SP                  3    MATH   \n",
       "174           174  8194935347251002368  2004FA                  3    MATH   \n",
       "198           198  -718625941903548288  2017SP                  3    MATH   \n",
       "217           217 -3770815134055052800  2010SP                  3    MATH   \n",
       "304           304 -8088322079901219840  2003SP                  3    MATH   \n",
       "...           ...                  ...     ...                ...     ...   \n",
       "75456       75456  4621391436657051648  2018SP                  3    MATH   \n",
       "75483       75483  4971633472316557312  2017FA                  3    MATH   \n",
       "75597       75597 -1256089431470343936  2018SP                  3    MATH   \n",
       "75640       75640 -3560550113868125184  2017FA                  3    MATH   \n",
       "75659       75659  3187828007594472960  2018SP                  3    MATH   \n",
       "\n",
       "      Course Number  Course Title  Credits  Grade  \n",
       "65              225  Calculus III        4    4.0  \n",
       "174             225  Calculus III        4    3.3  \n",
       "198             225  Calculus III        4    3.7  \n",
       "217             225  Calculus III        4    1.0  \n",
       "304             225  Calculus III        4    3.0  \n",
       "...             ...           ...      ...    ...  \n",
       "75456           225  Calculus III        4    2.0  \n",
       "75483           225  Calculus III        4    4.0  \n",
       "75597           225  Calculus III        4    4.0  \n",
       "75640           225  Calculus III        4    3.3  \n",
       "75659           225  Calculus III        4    3.0  \n",
       "\n",
       "[873 rows x 9 columns]"
      ]
     },
     "execution_count": 76,
     "metadata": {},
     "output_type": "execute_result"
    }
   ],
   "source": [
    "math_grades"
   ]
  },
  {
   "cell_type": "code",
   "execution_count": 77,
   "id": "93501156",
   "metadata": {},
   "outputs": [],
   "source": [
    "MG_fall = math_grades[math_grades['Term'].str.contains('FA')]"
   ]
  },
  {
   "cell_type": "code",
   "execution_count": 78,
   "id": "f6b52334",
   "metadata": {},
   "outputs": [],
   "source": [
    "MG_spring = math_grades[math_grades['Term'].str.contains('SP')]"
   ]
  },
  {
   "cell_type": "code",
   "execution_count": 79,
   "id": "166a6ca6",
   "metadata": {},
   "outputs": [],
   "source": [
    "def create_hist(class_info):\n",
    "    grades = class_info['totalGPA']\n",
    "    plt.hist(grades, bins=10, edgecolor='black')\n",
    "    plt.title('Histogram of Grades')\n",
    "    plt.xlabel('Grades')\n",
    "    plt.ylabel('Frequency')\n",
    "    plt.show()"
   ]
  },
  {
   "cell_type": "code",
   "execution_count": 80,
   "id": "e01d43a9",
   "metadata": {},
   "outputs": [
    {
     "data": {
      "image/png": "[encoded data removed]",
      "text/plain": [
       "<Figure size 640x480 with 1 Axes>"
      ]
     },
     "metadata": {},
     "output_type": "display_data"
    }
   ],
   "source": [
    "tempgrades = MG_spring['Grade']\n",
    "\n",
    "plt.hist(tempgrades, bins=10, edgecolor='black')\n",
    "plt.title('Histogram of Grades')\n",
    "plt.xlabel('Grades')\n",
    "plt.ylabel('Frequency')\n",
    "plt.show()"
   ]
  },
  {
   "cell_type": "code",
   "execution_count": 81,
   "id": "c69c0fa7",
   "metadata": {},
   "outputs": [
    {
     "data": {
      "text/plain": [
       "count    340.000000\n",
       "mean       3.408824\n",
       "std        0.721588\n",
       "min        0.000000\n",
       "25%        3.000000\n",
       "50%        3.700000\n",
       "75%        4.000000\n",
       "max        4.000000\n",
       "Name: Grade, dtype: float64"
      ]
     },
     "execution_count": 81,
     "metadata": {},
     "output_type": "execute_result"
    }
   ],
   "source": [
    "MG_fall['Grade'].describe()"
   ]
  },
  {
   "cell_type": "code",
   "execution_count": 82,
   "id": "c019f4e3",
   "metadata": {},
   "outputs": [
    {
     "data": {
      "text/plain": [
       "count    528.000000\n",
       "mean       3.247727\n",
       "std        0.709995\n",
       "min        0.000000\n",
       "25%        3.000000\n",
       "50%        3.300000\n",
       "75%        4.000000\n",
       "max        4.000000\n",
       "Name: Grade, dtype: float64"
      ]
     },
     "execution_count": 82,
     "metadata": {},
     "output_type": "execute_result"
    }
   ],
   "source": [
    "MG_spring['Grade'].describe()"
   ]
  },
  {
   "cell_type": "markdown",
   "id": "e588ed8a",
   "metadata": {},
   "source": [
    "### Part 2\n",
    "\n",
    "There are three tools I wanted to create:\n",
    "1) Given two classes, find the best schedule to take both.\n",
    "2) Given a single class, find the best complementary pair from all classes and the optimum schedule.\n",
    "3) Given a single class and a list of subjects, find the best complementary pair from each subject and the optimum schedule.\n",
    "\n",
    "\n",
    "First, we need a metric for success. The metric I used is ading medians for each of the fall/spring pairing for the two given courses, which I refer to as \"Total GPA.\"\n",
    "\n",
    "This first function produces the most detailed analysis of the two classes, but it is the hardest to scale. I don't use the median metric here, as the intention of this function is to provide the tools for a student to make the most informed decision possible for themeselves. "
   ]
  },
  {
   "cell_type": "code",
   "execution_count": 83,
   "id": "e022f2c8",
   "metadata": {},
   "outputs": [],
   "source": [
    "def create_hist(class_info):\n",
    "    #give a pandas df with a category of \"totalGPA\", produce a histogram. \n",
    "    grades = class_info['totalGPA']\n",
    "    plt.hist(grades, bins=10, edgecolor='black')\n",
    "    plt.title('Histogram of Grades')\n",
    "    plt.xlabel('Grades')\n",
    "    plt.ylabel('Frequency')\n",
    "    plt.show()\n",
    "\n",
    "def compare_two_full(class_info1, class_info2):\n",
    "    #class_info1 and class_info2 are both dictionaries of the form: {\"Subject\": XXX, \"Course Number\": Y}\n",
    "    #where XXX is the official acronym for the subject and Y is the three digit course number.\n",
    "    \n",
    "    #This function produces the full information about the best possible fall/spring pairing as well as an \n",
    "    #histogram for each pairing.\n",
    "    \n",
    "    #The pairings are taking both in fall (both_fall), taking both in spring (both spring), taking class1 in the fall\n",
    "    #and class2 in the spring (fall1) and class2 in the fall and class1 in the spring (fall2).\n",
    "    \n",
    "    #get grade information for class 1\n",
    "    grade_info_class1 = grades[(grades[\"Subject\"] == class_info1[\"Subject\"]) & (grades[\"Course Number\"] == class_info1[\"Course Number\"])]\n",
    "    #split grade information for fall and spring\n",
    "    class1fall =  grade_info_class1[grade_info_class1['Term'].str.contains('FA')]\n",
    "    class1spring =  grade_info_class1[grade_info_class1['Term'].str.contains('SP')]\n",
    "    \n",
    "    #get grade information for class 2 and split.\n",
    "    grade_info_class2 = grades[(grades[\"Subject\"] == class_info2[\"Subject\"]) & (grades[\"Course Number\"] == class_info2[\"Course Number\"])]\n",
    "    class2fall =  grade_info_class2[grade_info_class2['Term'].str.contains('FA')]\n",
    "    class2spring =  grade_info_class2[grade_info_class2['Term'].str.contains('SP')]\n",
    "    print(\"Students who took both class in the fall:\")\n",
    "    \n",
    "    #merges the two fall datasets on student ID, so only students who took both in the fall are included\n",
    "    both_fall = class1fall.merge(class2fall, on='Student ID')\n",
    "    \n",
    "    #show the distribution of \"totalGPA\", which is the added GPA's of each of the courses.\n",
    "    both_fall[\"totalGPA\"] = both_fall[\"Grade_x\"] + both_fall[\"Grade_y\"]\n",
    "    print(both_fall[\"totalGPA\"].describe())\n",
    "    #create_hist takes in a dataset with a \"totalGPA\" variable and produces a histogram for it.\n",
    "    create_hist(both_fall)\n",
    "    print(\"-------------------\")\n",
    "    \n",
    "    #repeat process for both_spring, fall1, fall2.\n",
    "    print(\"Students who took both class in the spring:\")\n",
    "    both_spring = class1spring.merge(class2spring, on='Student ID')\n",
    "    both_spring[\"totalGPA\"] = both_spring[\"Grade_x\"] + both_spring[\"Grade_y\"]\n",
    "    print(both_spring[\"totalGPA\"].describe())\n",
    "    create_hist(both_spring)\n",
    "    print(\"-------------------\")\n",
    "    print(\"Students who took \" + class_info1[\"Subject\"] + \" in the Fall and \" + class_info2[\"Subject\"] + \" in the Spring\" )\n",
    "    fall1 = class1fall.merge(class2spring, on='Student ID')\n",
    "    fall1[\"totalGPA\"] = fall1[\"Grade_x\"] + fall1[\"Grade_y\"]\n",
    "    print(fall1[\"totalGPA\"].describe())\n",
    "    create_hist(fall1)\n",
    "    print(\"-------------------\")\n",
    "    print(\"Students who took \" + class_info2[\"Subject\"] + \" in the Fall and \" + class_info1[\"Subject\"] + \" in the Spring\" )\n",
    "    fall2 = class2fall.merge(class1spring, on='Student ID')\n",
    "    fall2[\"totalGPA\"] = fall2[\"Grade_x\"] + fall2[\"Grade_y\"]\n",
    "    print(fall2[\"totalGPA\"].describe())\n",
    "    create_hist(fall2)\n",
    "    print(\"-------------------\")\n",
    "    \n"
   ]
  },
  {
   "cell_type": "code",
   "execution_count": 84,
   "id": "4e8a3f21",
   "metadata": {},
   "outputs": [
    {
     "name": "stdout",
     "output_type": "stream",
     "text": [
      "Students who took both class in the fall:\n",
      "count    16.000000\n",
      "mean      7.212500\n",
      "std       0.739256\n",
      "min       6.000000\n",
      "25%       6.850000\n",
      "50%       7.150000\n",
      "75%       8.000000\n",
      "max       8.000000\n",
      "Name: totalGPA, dtype: float64\n"
     ]
    },
    {
     "data": {
      "image/png": "[encoded data removed]",
      "text/plain": [
       "<Figure size 640x480 with 1 Axes>"
      ]
     },
     "metadata": {},
     "output_type": "display_data"
    },
    {
     "name": "stdout",
     "output_type": "stream",
     "text": [
      "-------------------\n",
      "Students who took both class in the spring:\n",
      "count    51.000000\n",
      "mean      6.870588\n",
      "std       1.048293\n",
      "min       3.000000\n",
      "25%       6.300000\n",
      "50%       7.000000\n",
      "75%       7.700000\n",
      "max       8.000000\n",
      "Name: totalGPA, dtype: float64\n"
     ]
    },
    {
     "data": {
      "image/png": "[encoded data removed]",
      "text/plain": [
       "<Figure size 640x480 with 1 Axes>"
      ]
     },
     "metadata": {},
     "output_type": "display_data"
    },
    {
     "name": "stdout",
     "output_type": "stream",
     "text": [
      "-------------------\n",
      "Students who took PSYC in the Fall and MATH in the Spring\n",
      "count    49.000000\n",
      "mean      6.857143\n",
      "std       1.079545\n",
      "min       3.000000\n",
      "25%       6.300000\n",
      "50%       7.000000\n",
      "75%       7.700000\n",
      "max       8.000000\n",
      "Name: totalGPA, dtype: float64\n"
     ]
    },
    {
     "data": {
      "image/png": "[encoded data removed]",
      "text/plain": [
       "<Figure size 640x480 with 1 Axes>"
      ]
     },
     "metadata": {},
     "output_type": "display_data"
    },
    {
     "name": "stdout",
     "output_type": "stream",
     "text": [
      "-------------------\n",
      "Students who took MATH in the Fall and PSYC in the Spring\n",
      "count    36.000000\n",
      "mean      7.122222\n",
      "std       0.909980\n",
      "min       4.400000\n",
      "25%       6.700000\n",
      "50%       7.150000\n",
      "75%       8.000000\n",
      "max       8.000000\n",
      "Name: totalGPA, dtype: float64\n"
     ]
    },
    {
     "data": {
      "image/png": "[encoded data removed]",
      "text/plain": [
       "<Figure size 640x480 with 1 Axes>"
      ]
     },
     "metadata": {},
     "output_type": "display_data"
    },
    {
     "name": "stdout",
     "output_type": "stream",
     "text": [
      "-------------------\n"
     ]
    }
   ],
   "source": [
    "class1 = {\"Subject\" : \"PSYC\", \"Course Number\" : 110}\n",
    "class2 = {\"Subject\" : \"MATH\", \"Course Number\" : 225}\n",
    "\n",
    "compare_two_full(class1, class2)\n"
   ]
  },
  {
   "cell_type": "code",
   "execution_count": 107,
   "id": "40625809",
   "metadata": {},
   "outputs": [
    {
     "name": "stdout",
     "output_type": "stream",
     "text": [
      "Students who took both class in the Fall:\n",
      "count    10.000000\n",
      "mean      6.510000\n",
      "std       1.185514\n",
      "min       4.700000\n",
      "25%       6.000000\n",
      "50%       6.650000\n",
      "75%       7.525000\n",
      "max       8.000000\n",
      "Name: totalGPA, dtype: float64\n"
     ]
    },
    {
     "data": {
      "image/png": "[encoded data removed]",
      "text/plain": [
       "<Figure size 640x480 with 1 Axes>"
      ]
     },
     "metadata": {},
     "output_type": "display_data"
    },
    {
     "name": "stdout",
     "output_type": "stream",
     "text": [
      "-------------------\n",
      "Students who took both class in the Spring:\n",
      "count    8.000000\n",
      "mean     6.150000\n",
      "std      1.704616\n",
      "min      3.000000\n",
      "25%      5.225000\n",
      "50%      6.700000\n",
      "75%      7.025000\n",
      "max      8.000000\n",
      "Name: totalGPA, dtype: float64\n"
     ]
    },
    {
     "data": {
      "image/png": "[encoded data removed]",
      "text/plain": [
       "<Figure size 640x480 with 1 Axes>"
      ]
     },
     "metadata": {},
     "output_type": "display_data"
    },
    {
     "name": "stdout",
     "output_type": "stream",
     "text": [
      "-------------------\n",
      "Students who took CS in the Fall and MATH in the Spring\n",
      "count    5.000000\n",
      "mean     5.940000\n",
      "std      0.750333\n",
      "min      4.700000\n",
      "25%      6.000000\n",
      "50%      6.000000\n",
      "75%      6.300000\n",
      "max      6.700000\n",
      "Name: totalGPA, dtype: float64\n"
     ]
    },
    {
     "data": {
      "image/png": "[encoded data removed]",
      "text/plain": [
       "<Figure size 640x480 with 1 Axes>"
      ]
     },
     "metadata": {},
     "output_type": "display_data"
    },
    {
     "name": "stdout",
     "output_type": "stream",
     "text": [
      "-------------------\n",
      "Students who took MATH in the Fall and CS in the Spring\n",
      "count    17.000000\n",
      "mean      6.394118\n",
      "std       1.482595\n",
      "min       2.700000\n",
      "25%       6.000000\n",
      "50%       6.300000\n",
      "75%       7.700000\n",
      "max       8.000000\n",
      "Name: totalGPA, dtype: float64\n"
     ]
    },
    {
     "data": {
      "image/png": "[encoded data removed]",
      "text/plain": [
       "<Figure size 640x480 with 1 Axes>"
      ]
     },
     "metadata": {},
     "output_type": "display_data"
    },
    {
     "name": "stdout",
     "output_type": "stream",
     "text": [
      "-------------------\n"
     ]
    }
   ],
   "source": [
    "class1 = {\"Subject\" : \"CS\", \"Course Number\" : 167}\n",
    "class2 = {\"Subject\" : \"MATH\", \"Course Number\" : 126}\n",
    "\n",
    "compare_two_full(class1, class2)"
   ]
  },
  {
   "cell_type": "markdown",
   "id": "fdb23376",
   "metadata": {},
   "source": [
    "The function \"compare_two\" distills the results of the previous function into a few lines. This uses the median of the \"totalGPA\" distribution for each pairing to determine the best combination. This function also has the variable \"least\", which is used to determine if I should print the least optimal strategy for this pairing. I use this function later and the \"least of the best\" wasn't necessary. "
   ]
  },
  {
   "cell_type": "code",
   "execution_count": 7,
   "id": "2acca1dc",
   "metadata": {},
   "outputs": [],
   "source": [
    "#Compare two classes and output optimal strategy\n",
    "\n",
    "\n",
    "def compare_two(class_info1, class_info2, least = 1):\n",
    "    #medians is a dictionary that holds the median values for each pairing. The key is the name of the pairing\n",
    "    # (both_fall, both_spring, fall1, fall2)\n",
    "    medians = {}\n",
    "    \n",
    "    #cumulate all grade info for each class, then split into fall and spring datasets for each\n",
    "    grade_info_class1 = grades[(grades[\"Subject\"] == class_info1[\"Subject\"]) & (grades[\"Course Number\"] == class_info1[\"Course Number\"])]\n",
    "    class1fall =  grade_info_class1[grade_info_class1['Term'].str.contains('FA')]\n",
    "    class1spring =  grade_info_class1[grade_info_class1['Term'].str.contains('SP')]\n",
    "    grade_info_class2 = grades[(grades[\"Subject\"] == class_info2[\"Subject\"]) & (grades[\"Course Number\"] == class_info2[\"Course Number\"])]\n",
    "    class2fall =  grade_info_class2[grade_info_class2['Term'].str.contains('FA')]\n",
    "    class2spring =  grade_info_class2[grade_info_class2['Term'].str.contains('SP')]\n",
    "\n",
    "    # merge the fall datasets, then create the added GPA variable\n",
    "    both_fall = class1fall.merge(class2fall, on='Student ID')\n",
    "    both_fall[\"totalGPA\"] = both_fall[\"Grade_x\"] + both_fall[\"Grade_y\"]\n",
    "\n",
    "    # repeat process for both_spring, fall1, fall2\n",
    "    both_spring = class1spring.merge(class2spring, on='Student ID')\n",
    "    both_spring[\"totalGPA\"] = both_spring[\"Grade_x\"] + both_spring[\"Grade_y\"]\n",
    "    fall1 = class1fall.merge(class2spring, on='Student ID')\n",
    "    fall1[\"totalGPA\"] = fall1[\"Grade_x\"] + fall1[\"Grade_y\"]\n",
    "    fall2 = class2fall.merge(class1spring, on='Student ID')\n",
    "    fall2[\"totalGPA\"] = fall2[\"Grade_x\"] + fall2[\"Grade_y\"]\n",
    "    \n",
    "    #find median values for each pairing, then add it to our dictionary.\n",
    "    medians[\"both_fall\"] = both_fall[\"totalGPA\"].median()\n",
    "    medians[\"both_spring\"] = both_spring[\"totalGPA\"].median()\n",
    "    medians[\"fall1\"] = fall1[\"totalGPA\"].median()\n",
    "    medians[\"fall2\"] = fall2[\"totalGPA\"].median()\n",
    "    \n",
    "    #print medians helps get a sense of the medians as a whole (possible gaps, outliers, etc.)\n",
    "    print(medians)\n",
    "    \n",
    "    #prints the total number of students who took both classes\n",
    "    print(\"There are \" + str(len(grade_info_class1.merge(grade_info_class2, on='Student ID'))) + \" students who took this combination.\")\n",
    "    \n",
    "    #find the maximum and minimum GPA medians. Saves its as both_fall, both_spring, fall1, fall2\n",
    "    max_med = max(medians, key=medians.get)\n",
    "    min_med = min(medians, key=medians.get)\n",
    "    \n",
    "    #temporary string which shortens the print statement length\n",
    "    rec = \"We recommend taking \"\n",
    "    \n",
    "    #for grammar purposes, I had each print statement be its own line.\n",
    "    if max_med == \"both_fall\":\n",
    "        print(rec + \"both classes, \" + class_info1[\"Subject\"] + str(class_info1[\"Course Number\"]) + \" and \" + class_info2[\"Subject\"] + str(class_info2[\"Course Number\"])  + \", in the fall.\")\n",
    "    if max_med == \"both_spring\":\n",
    "        print(rec + \"both classes, \" + class_info1[\"Subject\"] + str(class_info1[\"Course Number\"]) + \" and \" +  class_info2[\"Subject\"] + str(class_info2[\"Course Number\"]) + \", in the spring.\")\n",
    "    if max_med == \"fall1\":\n",
    "        print(rec + class_info1[\"Subject\"] + str(class_info1[\"Course Number\"]) + \" in the fall and \" + class_info2[\"Subject\"] + str(class_info2[\"Course Number\"]) + \" in the spring.\")\n",
    "    if max_med == \"fall2\":\n",
    "        print(rec + class_info2[\"Subject\"] + str(class_info2[\"Course Number\"]) + \" in the fall and \" + class_info1[\"Subject\"] + str(class_info1[\"Course Number\"]) + \" in the spring.\")\n",
    "    print(\"Students who do this have a median success score of \" + str(medians[max_med]))\n",
    "    \n",
    "    #if the least variable is 1, it will produce the worst strategy. \n",
    "    if least == 1:   \n",
    "        print()\n",
    "        nrec = \"The least favorable strategy is taking \"\n",
    "        if min_med == \"both_fall\":\n",
    "            print(nrec + \"both classes, \" + class_info1[\"Subject\"] + str(class_info1[\"Course Number\"]) + \" and \" + class_info2[\"Subject\"] + str(class_info2[\"Course Number\"])  + \", in the fall.\")\n",
    "        if min_med == \"both_spring\":\n",
    "            print(nrec + \"both classes, \" + class_info1[\"Subject\"] + str(class_info1[\"Course Number\"]) + \" and \" +  class_info2[\"Subject\"] + str(class_info2[\"Course Number\"]) + \", in the spring.\")\n",
    "        if min_med == \"fall1\":\n",
    "            print(nrec + class_info1[\"Subject\"] + str(class_info1[\"Course Number\"]) + \" in the fall and \" + class_info2[\"Subject\"] + str(class_info2[\"Course Number\"]) + \" in the spring.\")\n",
    "        if min_med == \"fall2\":\n",
    "            print(nrec + class_info2[\"Subject\"] + str(class_info2[\"Course Number\"]) + \" in the fall and \" + class_info1[\"Subject\"] + str(class_info1[\"Course Number\"]) + \" in the spring.\")\n",
    "        print(\"Students who do this have a median success score of \" + str(medians[min_med]))\n",
    "\n",
    "\n",
    "    "
   ]
  },
  {
   "cell_type": "markdown",
   "id": "7ccabe12",
   "metadata": {},
   "source": [
    "Here are some fairly interesting examples of the above function in action."
   ]
  },
  {
   "cell_type": "code",
   "execution_count": 8,
   "id": "2d5b1b7f",
   "metadata": {},
   "outputs": [
    {
     "name": "stdout",
     "output_type": "stream",
     "text": [
      "{'both_fall': 7.0, 'both_spring': 6.65, 'fall1': 6.7, 'fall2': 6.7}\n",
      "There are 410 students who took this combination.\n",
      "We recommend taking both classes, PSYC110 and MATH126, in the fall.\n",
      "Students who do this have a median success score of 7.0\n",
      "\n",
      "The least favorable strategy is taking both classes, PSYC110 and MATH126, in the spring.\n",
      "Students who do this have a median success score of 6.65\n"
     ]
    }
   ],
   "source": [
    "class1 = {\"Subject\" : \"PSYC\", \"Course Number\" : 110}\n",
    "class2 = {\"Subject\" : \"MATH\", \"Course Number\" : 126}\n",
    "\n",
    "compare_two(class1, class2, 1)"
   ]
  },
  {
   "cell_type": "code",
   "execution_count": 9,
   "id": "b54dbdef",
   "metadata": {},
   "outputs": [
    {
     "name": "stdout",
     "output_type": "stream",
     "text": [
      "{'both_fall': 7.15, 'both_spring': 7.0, 'fall1': 7.0, 'fall2': 7.15}\n",
      "There are 157 students who took this combination.\n",
      "We recommend taking both classes, PSYC110 and MATH225, in the fall.\n",
      "Students who do this have a median success score of 7.15\n",
      "\n",
      "The least favorable strategy is taking both classes, PSYC110 and MATH225, in the spring.\n",
      "Students who do this have a median success score of 7.0\n"
     ]
    }
   ],
   "source": [
    "class1 = {\"Subject\" : \"PSYC\", \"Course Number\" : 110}\n",
    "class2 = {\"Subject\" : \"MATH\", \"Course Number\" : 225}\n",
    "\n",
    "compare_two(class1, class2, 1)"
   ]
  },
  {
   "cell_type": "code",
   "execution_count": 10,
   "id": "87403c20",
   "metadata": {},
   "outputs": [
    {
     "name": "stdout",
     "output_type": "stream",
     "text": [
      "{'both_fall': 7.3, 'both_spring': 6.65, 'fall1': 7.0, 'fall2': 7.2}\n",
      "There are 6 students who took this combination.\n",
      "We recommend taking both classes, ENGL220 and PSYC110, in the fall.\n",
      "Students who do this have a median success score of 7.3\n",
      "\n",
      "The least favorable strategy is taking both classes, ENGL220 and PSYC110, in the spring.\n",
      "Students who do this have a median success score of 6.65\n"
     ]
    }
   ],
   "source": [
    "class1 = {\"Subject\" : \"ENGL\", \"Course Number\" : 220}\n",
    "class2 = {\"Subject\" : \"PSYC\", \"Course Number\" : 110}\n",
    "\n",
    "compare_two(class1, class2, 1)"
   ]
  },
  {
   "cell_type": "code",
   "execution_count": 11,
   "id": "7481c8c8",
   "metadata": {},
   "outputs": [
    {
     "name": "stdout",
     "output_type": "stream",
     "text": [
      "{'both_fall': 5.7, 'both_spring': 6.3, 'fall1': nan, 'fall2': 6.35}\n",
      "There are 4 students who took this combination.\n",
      "We recommend taking MATH126 in the fall and ENGL220 in the spring.\n",
      "Students who do this have a median success score of 6.35\n",
      "\n",
      "The least favorable strategy is taking both classes, ENGL220 and MATH126, in the fall.\n",
      "Students who do this have a median success score of 5.7\n"
     ]
    }
   ],
   "source": [
    "class1 = {\"Subject\" : \"ENGL\", \"Course Number\" : 220}\n",
    "class2 = {\"Subject\" : \"MATH\", \"Course Number\" : 126}\n",
    "\n",
    "compare_two(class1, class2, 1)"
   ]
  },
  {
   "cell_type": "code",
   "execution_count": 12,
   "id": "dbb0be83",
   "metadata": {},
   "outputs": [
    {
     "name": "stdout",
     "output_type": "stream",
     "text": [
      "{'both_fall': 6.3, 'both_spring': nan, 'fall1': 5.7, 'fall2': 5.949999999999999}\n",
      "There are 4 students who took this combination.\n",
      "We recommend taking both classes, ENGL220 and MATH125, in the fall.\n",
      "Students who do this have a median success score of 6.3\n",
      "\n",
      "The least favorable strategy is taking ENGL220 in the fall and MATH125 in the spring.\n",
      "Students who do this have a median success score of 5.7\n"
     ]
    }
   ],
   "source": [
    "class1 = {\"Subject\" : \"ENGL\", \"Course Number\" : 220}\n",
    "class2 = {\"Subject\" : \"MATH\", \"Course Number\" : 125}\n",
    "\n",
    "compare_two(class1, class2, 1)"
   ]
  },
  {
   "cell_type": "code",
   "execution_count": 13,
   "id": "fe1d2075",
   "metadata": {},
   "outputs": [
    {
     "name": "stdout",
     "output_type": "stream",
     "text": [
      "{'both_fall': 6.7, 'both_spring': 5.7, 'fall1': 7.3, 'fall2': 6.3}\n",
      "There are 66 students who took this combination.\n",
      "We recommend taking ENGL178 in the fall and MATH125 in the spring.\n",
      "Students who do this have a median success score of 7.3\n",
      "\n",
      "The least favorable strategy is taking both classes, ENGL178 and MATH125, in the spring.\n",
      "Students who do this have a median success score of 5.7\n"
     ]
    }
   ],
   "source": [
    "class1 = {\"Subject\" : \"ENGL\", \"Course Number\" : 178}\n",
    "class2 = {\"Subject\" : \"MATH\", \"Course Number\" : 125}\n",
    "\n",
    "compare_two(class1, class2, 1)"
   ]
  },
  {
   "cell_type": "code",
   "execution_count": 14,
   "id": "c7e272a7",
   "metadata": {},
   "outputs": [
    {
     "name": "stdout",
     "output_type": "stream",
     "text": [
      "{'both_fall': 6.7, 'both_spring': 5.0, 'fall1': 6.7, 'fall2': 6.3}\n",
      "There are 38 students who took this combination.\n",
      "We recommend taking both classes, CS167 and MATH125, in the fall.\n",
      "Students who do this have a median success score of 6.7\n",
      "\n",
      "The least favorable strategy is taking both classes, CS167 and MATH125, in the spring.\n",
      "Students who do this have a median success score of 5.0\n"
     ]
    }
   ],
   "source": [
    "class1 = {\"Subject\" : \"CS\", \"Course Number\" : 167}\n",
    "class2 = {\"Subject\" : \"MATH\", \"Course Number\" : 125}\n",
    "\n",
    "compare_two(class1, class2, 1)"
   ]
  },
  {
   "cell_type": "code",
   "execution_count": 15,
   "id": "c3b5ba3c",
   "metadata": {},
   "outputs": [
    {
     "name": "stdout",
     "output_type": "stream",
     "text": [
      "{'both_fall': 6.65, 'both_spring': 6.7, 'fall1': 6.0, 'fall2': 6.3}\n",
      "There are 43 students who took this combination.\n",
      "We recommend taking both classes, CS167 and MATH126, in the spring.\n",
      "Students who do this have a median success score of 6.7\n",
      "\n",
      "The least favorable strategy is taking CS167 in the fall and MATH126 in the spring.\n",
      "Students who do this have a median success score of 6.0\n"
     ]
    }
   ],
   "source": [
    "class1 = {\"Subject\" : \"CS\", \"Course Number\" : 167}\n",
    "class2 = {\"Subject\" : \"MATH\", \"Course Number\" : 126}\n",
    "\n",
    "compare_two(class1, class2, 1)"
   ]
  },
  {
   "cell_type": "code",
   "execution_count": 16,
   "id": "61a7630e",
   "metadata": {},
   "outputs": [
    {
     "name": "stdout",
     "output_type": "stream",
     "text": [
      "{'both_fall': 7.0, 'both_spring': 7.3, 'fall1': 6.85, 'fall2': 7.85}\n",
      "There are 30 students who took this combination.\n",
      "We recommend taking MATH225 in the fall and CS167 in the spring.\n",
      "Students who do this have a median success score of 7.85\n",
      "\n",
      "The least favorable strategy is taking CS167 in the fall and MATH225 in the spring.\n",
      "Students who do this have a median success score of 6.85\n"
     ]
    }
   ],
   "source": [
    "class1 = {\"Subject\" : \"CS\", \"Course Number\" : 167}\n",
    "class2 = {\"Subject\" : \"MATH\", \"Course Number\" : 225}\n",
    "\n",
    "compare_two(class1, class2, 1)"
   ]
  },
  {
   "cell_type": "markdown",
   "id": "c8c107d9",
   "metadata": {},
   "source": [
    "Next, I will be solving the issue of finding the best possible course to pair with a given course. The user  will see a similar outcome as the previous function, with the minimum students exception. If we didn't set a minimum students, then a single student with an odd schedule might skew the data. Alternatively, if the bar is too high then only the most popular courses would be recommended. \n",
    "\n",
    "Note: the following function does a minute or so as it looks through every possible course."
   ]
  },
  {
   "cell_type": "code",
   "execution_count": 25,
   "id": "d2e07fa9",
   "metadata": {},
   "outputs": [],
   "source": [
    "#class_list is a list of dictionaries of the unique class information. GENS is removed. Other two are temporary variables.\n",
    "temp_pairs = grades[['Subject', 'Course Number']].drop_duplicates()\n",
    "classes_dict = temp_pairs.to_dict('records')\n",
    "class_list = [d for d in classes_dict if not (d['Subject'] == \"GENS\")]\n"
   ]
  },
  {
   "cell_type": "code",
   "execution_count": 85,
   "id": "5f96b8a0",
   "metadata": {},
   "outputs": [],
   "source": [
    "def find_best(courses):\n",
    "    \n",
    "    #courses is a list of  dictionaries with the medians for each fall/spring pair and a \"Course Info\" key with \n",
    "    # the dictionary {\"Subject\": XXX, \"Course Number\": Y} as its value\n",
    "    #returns the class with the highest median. \n",
    "    \n",
    "    \n",
    "    #sets temporary values. If the this returns 0, then I there was an error.\n",
    "    max_value = 0\n",
    "    max_class = 0\n",
    "    \n",
    "    #a list of the imporant keyes\n",
    "    #keys = [\"both_fall\", \"both_spring\", \"fall1\", \"fall2\"]\n",
    "    for each_course in courses:\n",
    "        numeric_values = [v for v in each_course.values() if isinstance(v, (int, float))]\n",
    "        temp = max(numeric_values)\n",
    "        if temp > max_value:\n",
    "            max_value = temp\n",
    "            max_class = each_course\n",
    "    #print(max_value)\n",
    "    return max_class\n",
    "    \n",
    "\n",
    "        \n",
    "\n",
    "def find_best_with_required(class_info1, min_students = 30):\n",
    "    #possible_courses has course information of courses that meet minimum student requirement.\n",
    "    possible_courses = []\n",
    "    #removes the given class from our class_list\n",
    "    new_list = [d for d in class_list if not (d['Subject'] == class_info1[\"Subject\"] and d['Course Number'] == class_info1[\"Course Number\"])]\n",
    "    \n",
    "    #this for loop looks at each class, sees the total number of students who took it and the required\n",
    "    #and if it is greater than the threshold, its information will be saved to a dictionary then appended to \n",
    "    #possible_courses.\n",
    "    for class_info2 in new_list:\n",
    "        grade_info_class1 = grades[(grades[\"Subject\"] == class_info1[\"Subject\"]) & (grades[\"Course Number\"] == class_info1[\"Course Number\"])]\n",
    "        grade_info_class2 = grades[(grades[\"Subject\"] == class_info2[\"Subject\"]) & (grades[\"Course Number\"] == class_info2[\"Course Number\"])]\n",
    "        if len(grade_info_class1.merge(grade_info_class2, on='Student ID')) > min_students:\n",
    "            medians = {}\n",
    "            class1fall = grade_info_class1[grade_info_class1['Term'].str.contains('FA')]\n",
    "            class1spring =  grade_info_class1[grade_info_class1['Term'].str.contains('SP')]\n",
    "            class2fall =  grade_info_class2[grade_info_class2['Term'].str.contains('FA')]\n",
    "            class2spring =  grade_info_class2[grade_info_class2['Term'].str.contains('SP')]\n",
    "            both_fall = class1fall.merge(class2fall, on='Student ID')\n",
    "            both_fall[\"totalGPA\"] = both_fall[\"Grade_x\"] + both_fall[\"Grade_y\"]\n",
    "            both_spring = class1spring.merge(class2spring, on='Student ID')\n",
    "            both_spring[\"totalGPA\"] = both_spring[\"Grade_x\"] + both_spring[\"Grade_y\"]\n",
    "            fall1 = class1fall.merge(class2spring, on='Student ID')\n",
    "            fall1[\"totalGPA\"] = fall1[\"Grade_x\"] + fall1[\"Grade_y\"]\n",
    "            fall2 = class2fall.merge(class1spring, on='Student ID')\n",
    "            fall2[\"totalGPA\"] = fall2[\"Grade_x\"] + fall2[\"Grade_y\"]\n",
    "            medians[\"both_fall\"] = both_fall[\"totalGPA\"].median()\n",
    "            medians[\"both_spring\"] = both_spring[\"totalGPA\"].median()\n",
    "            medians[\"fall1\"] = fall1[\"totalGPA\"].median()\n",
    "            medians[\"fall2\"] = fall2[\"totalGPA\"].median()\n",
    "            medians[\"Class Info\"] = class_info2\n",
    "            possible_courses.append(medians)\n",
    "    #finds the best course of all elligible courses\n",
    "    best_class = find_best(possible_courses)\n",
    "    #prints the number of courses that meet the threshold.\n",
    "    print(\"There are \" + str(len(possible_courses)) + \" pairs of courses that have at least \" + str(min_students)  + \" students. The best combination of these is \" + best_class[\"Class Info\"][\"Subject\"] + str(best_class[\"Class Info\"][\"Course Number\"]) + \".\")\n",
    "    #prints the information about the best class.\n",
    "    compare_two(best_class[\"Class Info\"], class2, 0)\n",
    "    return()"
   ]
  },
  {
   "cell_type": "markdown",
   "id": "47ef1bf5",
   "metadata": {},
   "source": [
    "Here are some interesting examples of the function in action."
   ]
  },
  {
   "cell_type": "code",
   "execution_count": 86,
   "id": "1d928379",
   "metadata": {},
   "outputs": [
    {
     "name": "stdout",
     "output_type": "stream",
     "text": [
      "There are 66 pairs of courses that have at least 30 students. The best combination of these is MUS241.\n",
      "{'both_fall': 7.0, 'both_spring': nan, 'fall1': 7.3, 'fall2': nan}\n",
      "There are 50 students who took this combination.\n",
      "We recommend taking MUS241 in the fall and MATH125 in the spring.\n",
      "Students who do this have a median success score of 7.3\n"
     ]
    },
    {
     "data": {
      "text/plain": [
       "()"
      ]
     },
     "execution_count": 86,
     "metadata": {},
     "output_type": "execute_result"
    }
   ],
   "source": [
    "class2 = {\"Subject\" : \"MATH\", \"Course Number\" : 125}\n",
    "\n",
    "find_best_with_required(class2)\n"
   ]
  },
  {
   "cell_type": "code",
   "execution_count": 87,
   "id": "36938563",
   "metadata": {},
   "outputs": [
    {
     "name": "stdout",
     "output_type": "stream",
     "text": [
      "There are 46 pairs of courses that have at least 30 students. The best combination of these is MUS125.\n",
      "{'both_fall': 7.550000000000001, 'both_spring': 7.0, 'fall1': 7.3, 'fall2': 8.0}\n",
      "There are 37 students who took this combination.\n",
      "We recommend taking MATH225 in the fall and MUS125 in the spring.\n",
      "Students who do this have a median success score of 8.0\n"
     ]
    },
    {
     "data": {
      "text/plain": [
       "()"
      ]
     },
     "execution_count": 87,
     "metadata": {},
     "output_type": "execute_result"
    }
   ],
   "source": [
    "class2 = {\"Subject\" : \"MATH\", \"Course Number\" : 225}\n",
    "\n",
    "find_best_with_required(class2)\n",
    "#compare_two(find_best_with_required(class2)[\"Class Info\"], class2)"
   ]
  },
  {
   "cell_type": "code",
   "execution_count": 88,
   "id": "da3e2a0c",
   "metadata": {},
   "outputs": [
    {
     "name": "stdout",
     "output_type": "stream",
     "text": [
      "There are 22 pairs of courses that have at least 25 students. The best combination of these is MUS241.\n",
      "{'both_fall': 7.7, 'both_spring': nan, 'fall1': 7.7, 'fall2': nan}\n",
      "There are 26 students who took this combination.\n",
      "We recommend taking both classes, MUS241 and ENGL178, in the fall.\n",
      "Students who do this have a median success score of 7.7\n"
     ]
    },
    {
     "data": {
      "text/plain": [
       "()"
      ]
     },
     "execution_count": 88,
     "metadata": {},
     "output_type": "execute_result"
    }
   ],
   "source": [
    "class2 = {\"Subject\" : \"ENGL\", \"Course Number\" : 178}\n",
    "\n",
    "find_best_with_required(class2, 25)\n",
    "#compare_two(find_best_with_required(class2)[\"Class Info\"], class2)"
   ]
  },
  {
   "cell_type": "code",
   "execution_count": null,
   "id": "a69a462b",
   "metadata": {},
   "outputs": [],
   "source": [
    "class2 = {\"Subject\" : \"POL\", \"Course Number\" : 124}\n",
    "\n",
    "find_best_with_required(class2)"
   ]
  },
  {
   "cell_type": "code",
   "execution_count": null,
   "id": "ab7aff67",
   "metadata": {},
   "outputs": [],
   "source": [
    "class2 = {\"Subject\" : \"ARTS\", \"Course Number\" : 115}\n",
    "\n",
    "find_best_with_required(class2)"
   ]
  },
  {
   "cell_type": "code",
   "execution_count": null,
   "id": "7e604bbc",
   "metadata": {},
   "outputs": [],
   "source": [
    "class2 = {\"Subject\" : \"BIOL\", \"Course Number\" : 111}\n",
    "\n",
    "find_best_with_required(class2)"
   ]
  },
  {
   "cell_type": "code",
   "execution_count": null,
   "id": "5fd2cefc",
   "metadata": {},
   "outputs": [],
   "source": [
    "class2 = {\"Subject\" : \"ARTS\", \"Course Number\" : 130}\n",
    "\n",
    "find_best_with_required(class2)"
   ]
  },
  {
   "cell_type": "code",
   "execution_count": null,
   "id": "90cadaa6",
   "metadata": {},
   "outputs": [],
   "source": [
    "class2 = {\"Subject\" : \"CS\", \"Course Number\" : 167}\n",
    "\n",
    "find_best_with_required(class2)"
   ]
  },
  {
   "cell_type": "code",
   "execution_count": null,
   "id": "603e5773",
   "metadata": {},
   "outputs": [],
   "source": [
    "class2 = {\"Subject\" : \"GNDS\", \"Course Number\" : 100}\n",
    "\n",
    "find_best_with_required(class2)"
   ]
  },
  {
   "cell_type": "code",
   "execution_count": null,
   "id": "5de78e17",
   "metadata": {},
   "outputs": [],
   "source": [
    "class2 = {\"Subject\" : \"ENVS\", \"Course Number\" : 120}\n",
    "\n",
    "find_best_with_required(class2)"
   ]
  },
  {
   "cell_type": "code",
   "execution_count": null,
   "id": "5a8a1be5",
   "metadata": {},
   "outputs": [],
   "source": [
    "class2 = {\"Subject\" : \"SPAN\", \"Course Number\" : 205}\n",
    "\n",
    "find_best_with_required(class2, 27)"
   ]
  },
  {
   "cell_type": "code",
   "execution_count": null,
   "id": "654a950f",
   "metadata": {},
   "outputs": [],
   "source": [
    "class2 = {\"Subject\" : \"CS\", \"Course Number\" : 270}\n",
    "\n",
    "find_best_with_required(class2, 11)"
   ]
  },
  {
   "cell_type": "markdown",
   "id": "b358e407",
   "metadata": {},
   "source": [
    "Finally, I'll look at finding the best possible match to a given course with specific subjects in mind. This code operates similarly, except it creates a new dataframe for each subject and searches for the best match in that. Then, it prints the best matches.\n",
    "\n",
    "I also have the option of creating a bar chart for all possible fall/spring pairings of all courses that meet the minimum student requirement."
   ]
  },
  {
   "cell_type": "code",
   "execution_count": 90,
   "id": "40b0f9ea",
   "metadata": {},
   "outputs": [],
   "source": [
    "def create_bar(courses):\n",
    "    df = pd.DataFrame(courses)\n",
    "    df = pd.concat([df.drop(['Class Info'], axis=1), df['Class Info'].apply(pd.Series)], axis=1)\n",
    "\n",
    "    #create a new column 'SubjectNumber' combining 'Subject' and 'Number'\n",
    "    df['SubjectNumber'] = df['Subject'] + df['Course Number'].astype(str)\n",
    "\n",
    "    #reorganize the dataframe so that th\n",
    "    df_melt = df.melt(id_vars='SubjectNumber', value_vars=['both_fall', 'both_spring', 'fall1', 'fall2'], var_name='time', value_name='median_GPA')\n",
    "\n",
    "# sort values for better visualization\n",
    "    df_melt.sort_values(by='median_GPA', inplace=True)\n",
    "\n",
    "# Create the barchart\n",
    "    color_dict = {'both_fall': 'blue', 'both_spring': 'green', 'fall1': 'red', 'fall2': 'purple'}\n",
    "    plt.figure(figsize=(10, 5))\n",
    "    plt.barh(df_melt['SubjectNumber'] + ' - ' + df_melt['time'], df_melt['median_GPA'], color=df_melt['time'].map(color_dict))\n",
    "    plt.xlabel('Median GPA')\n",
    "    plt.title('Median GPA for each fall/spring pair')\n",
    "    plt.tight_layout()\n",
    "    plt.show()\n",
    "\n",
    "def required_course_with_desired_subjects(class_info1, desired_subjects, min_students = 30, bar = 0):\n",
    "    temp_pairs = grades[['Subject', 'Course Number']].drop_duplicates()\n",
    "    classes_dict = temp_pairs.to_dict('records')\n",
    "\n",
    "    #temp_course_list will have all courses for a specific subject\n",
    "    temp_course_list = []\n",
    "    #possible_courses has the grade/course information for courses that meet the size requirement.\n",
    "    possible_courses = []\n",
    "    #best_courses has information on the best courses. Each key is the subject, each value is a dictionary of the medians and course information. \n",
    "    best_courses = {}\n",
    "    #used in visualization\n",
    "    all_courses = []\n",
    "    for sub in desired_subjects:\n",
    "        #reset temporary variables\n",
    "        temp_course_list = []\n",
    "        possible_courses = []\n",
    "        #choose courses of the given subject\n",
    "        temp_course_list = temp_course_list + [d for d in classes_dict if  (d['Subject'] == sub)]\n",
    "        for class_info2 in temp_course_list:\n",
    "            grade_info_class1 = grades[(grades[\"Subject\"] == class_info1[\"Subject\"]) & (grades[\"Course Number\"] == class_info1[\"Course Number\"])]\n",
    "            grade_info_class2 = grades[(grades[\"Subject\"] == class_info2[\"Subject\"]) & (grades[\"Course Number\"] == class_info2[\"Course Number\"])]\n",
    "            #if a course meets the size threshold\n",
    "            if len(grade_info_class1.merge(grade_info_class2, on='Student ID')) > min_students:\n",
    "                #medians is a dictionary that has the median values for each course.\n",
    "                medians = {}\n",
    "                #same process from above to find the median values\n",
    "                class1fall = grade_info_class1[grade_info_class1['Term'].str.contains('FA')]\n",
    "                class1spring =  grade_info_class1[grade_info_class1['Term'].str.contains('SP')]\n",
    "                class2fall =  grade_info_class2[grade_info_class2['Term'].str.contains('FA')]\n",
    "                class2spring =  grade_info_class2[grade_info_class2['Term'].str.contains('SP')]\n",
    "                both_fall = class1fall.merge(class2fall, on='Student ID')\n",
    "                both_fall[\"totalGPA\"] = both_fall[\"Grade_x\"] + both_fall[\"Grade_y\"]\n",
    "                both_spring = class1spring.merge(class2spring, on='Student ID')\n",
    "                both_spring[\"totalGPA\"] = both_spring[\"Grade_x\"] + both_spring[\"Grade_y\"]\n",
    "                fall1 = class1fall.merge(class2spring, on='Student ID')\n",
    "                fall1[\"totalGPA\"] = fall1[\"Grade_x\"] + fall1[\"Grade_y\"]\n",
    "                fall2 = class2fall.merge(class1spring, on='Student ID')\n",
    "                fall2[\"totalGPA\"] = fall2[\"Grade_x\"] + fall2[\"Grade_y\"]\n",
    "                \n",
    "                #append the median values to the dict as well as course information\n",
    "                medians[\"both_fall\"] = both_fall[\"totalGPA\"].median()\n",
    "                medians[\"both_spring\"] = both_spring[\"totalGPA\"].median()\n",
    "                medians[\"fall1\"] = fall1[\"totalGPA\"].median()\n",
    "                medians[\"fall2\"] = fall2[\"totalGPA\"].median()\n",
    "                medians[\"Class Info\"] = class_info2\n",
    "                #add that to possible courses\n",
    "                possible_courses.append(medians)\n",
    "        #find the best option of all courses we added for that subject\n",
    "        best_courses[sub] = find_best(possible_courses)\n",
    "        if bar == 1:\n",
    "            all_courses = all_courses + possible_courses\n",
    "        #best_courses[sub] will equal 0 if there was no course that met the size requirement (min_students is too high, not a real subject)\n",
    "        if best_courses[sub] == 0:\n",
    "            print(\"For the subject \" + sub +  \", there were no course pairs that had at least \" + str(min_students)  + \" taking the required course.\")\n",
    "        # otherwises prints the information about the best course.\n",
    "        else:\n",
    "            print(\"For the subject \" + sub +  \", there are \" + str(len(possible_courses)) + \" pairs of courses that have at least \" + str(min_students)  + \" students. The best combination of these is \" + best_courses[sub][\"Class Info\"][\"Subject\"] + str(best_courses[sub][\"Class Info\"][\"Course Number\"]) + \".\")\n",
    "            compare_two(best_courses[sub][\"Class Info\"], class2, 1)\n",
    "    if bar == 1:\n",
    "        create_bar(all_courses)\n",
    " \n",
    "    "
   ]
  },
  {
   "cell_type": "markdown",
   "id": "21133dad",
   "metadata": {},
   "source": [
    "Here are a few examples of using this function. "
   ]
  },
  {
   "cell_type": "code",
   "execution_count": 91,
   "id": "c6834696",
   "metadata": {},
   "outputs": [
    {
     "name": "stdout",
     "output_type": "stream",
     "text": [
      "For the subject PSYC, there are 1 pairs of courses that have at least 20 students. The best combination of these is PSYC110.\n",
      "{'both_fall': 7.0, 'both_spring': 6.65, 'fall1': 6.7, 'fall2': 6.7}\n",
      "There are 410 students who took this combination.\n",
      "We recommend taking both classes, PSYC110 and MATH126, in the fall.\n",
      "Students who do this have a median success score of 7.0\n",
      "\n",
      "The least favorable strategy is taking both classes, PSYC110 and MATH126, in the spring.\n",
      "Students who do this have a median success score of 6.65\n",
      "For the subject SOC, there are 2 pairs of courses that have at least 20 students. The best combination of these is SOC117.\n",
      "{'both_fall': 7.0, 'both_spring': 6.4, 'fall1': 6.0, 'fall2': 6.7}\n",
      "There are 61 students who took this combination.\n",
      "We recommend taking both classes, SOC117 and MATH126, in the fall.\n",
      "Students who do this have a median success score of 7.0\n",
      "\n",
      "The least favorable strategy is taking SOC117 in the fall and MATH126 in the spring.\n",
      "Students who do this have a median success score of 6.0\n"
     ]
    },
    {
     "data": {
      "image/png": "[encoded data removed]",
      "text/plain": [
       "<Figure size 1000x500 with 1 Axes>"
      ]
     },
     "metadata": {},
     "output_type": "display_data"
    }
   ],
   "source": [
    "\n",
    "class2 = {\"Subject\" : \"MATH\", \"Course Number\" : 126}\n",
    "\n",
    "\n",
    "required_course_with_desired_subjects(class2, [\"PSYC\", \"SOC\"], min_students = 20, bar = 1)"
   ]
  },
  {
   "cell_type": "code",
   "execution_count": 92,
   "id": "f2f29406",
   "metadata": {},
   "outputs": [
    {
     "name": "stdout",
     "output_type": "stream",
     "text": [
      "For the subject SOC, there are 2 pairs of courses that have at least 10 students. The best combination of these is SOC117.\n",
      "{'both_fall': 7.0, 'both_spring': 6.4, 'fall1': 6.0, 'fall2': 6.7}\n",
      "There are 61 students who took this combination.\n",
      "We recommend taking both classes, SOC117 and MATH126, in the fall.\n",
      "Students who do this have a median success score of 7.0\n",
      "\n",
      "The least favorable strategy is taking SOC117 in the fall and MATH126 in the spring.\n",
      "Students who do this have a median success score of 6.0\n",
      "For the subject ENGL, there are 7 pairs of courses that have at least 10 students. The best combination of these is ENGL178.\n",
      "{'both_fall': 6.15, 'both_spring': 7.15, 'fall1': 6.7, 'fall2': 6.0}\n",
      "There are 51 students who took this combination.\n",
      "We recommend taking both classes, ENGL178 and MATH126, in the spring.\n",
      "Students who do this have a median success score of 7.15\n",
      "\n",
      "The least favorable strategy is taking MATH126 in the fall and ENGL178 in the spring.\n",
      "Students who do this have a median success score of 6.0\n"
     ]
    },
    {
     "data": {
      "image/png": "[encoded data removed]",
      "text/plain": [
       "<Figure size 1000x500 with 1 Axes>"
      ]
     },
     "metadata": {},
     "output_type": "display_data"
    }
   ],
   "source": [
    "class2 = {\"Subject\" : \"MATH\", \"Course Number\" : 126}\n",
    "\n",
    "required_course_with_desired_subjects(class2, [\"SOC\", \"ENGL\"], min_students =  10, bar = 1)"
   ]
  },
  {
   "cell_type": "code",
   "execution_count": 93,
   "id": "0bc22b0d",
   "metadata": {},
   "outputs": [
    {
     "name": "stdout",
     "output_type": "stream",
     "text": [
      "For the subject ENVS, there are 1 pairs of courses that have at least 15 students. The best combination of these is ENVS120.\n",
      "{'both_fall': 7.15, 'both_spring': nan, 'fall1': nan, 'fall2': 6.7}\n",
      "There are 17 students who took this combination.\n",
      "We recommend taking both classes, ENVS120 and PHYS155, in the fall.\n",
      "Students who do this have a median success score of 7.15\n",
      "\n",
      "The least favorable strategy is taking PHYS155 in the fall and ENVS120 in the spring.\n",
      "Students who do this have a median success score of 6.7\n",
      "For the subject HIST, there were no course pairs that had at least 15 taking the required course.\n",
      "For the subject PSYC, there are 1 pairs of courses that have at least 15 students. The best combination of these is PSYC110.\n",
      "{'both_fall': 7.15, 'both_spring': nan, 'fall1': nan, 'fall2': 6.3}\n",
      "There are 59 students who took this combination.\n",
      "We recommend taking both classes, PSYC110 and PHYS155, in the fall.\n",
      "Students who do this have a median success score of 7.15\n",
      "\n",
      "The least favorable strategy is taking PHYS155 in the fall and PSYC110 in the spring.\n",
      "Students who do this have a median success score of 6.3\n",
      "For the subject MATH, there are 5 pairs of courses that have at least 15 students. The best combination of these is MATH235.\n",
      "{'both_fall': 7.7, 'both_spring': nan, 'fall1': nan, 'fall2': 7.7}\n",
      "There are 35 students who took this combination.\n",
      "We recommend taking both classes, MATH235 and PHYS155, in the fall.\n",
      "Students who do this have a median success score of 7.7\n",
      "\n",
      "The least favorable strategy is taking both classes, MATH235 and PHYS155, in the fall.\n",
      "Students who do this have a median success score of 7.7\n"
     ]
    }
   ],
   "source": [
    "class2 = {\"Subject\" : \"PHYS\", \"Course Number\" : 155}\n",
    "\n",
    "required_course_with_desired_subjects(class2, [\"ENVS\", \"HIST\", \"PSYC\", \"MATH\"], min_students = 15)"
   ]
  },
  {
   "cell_type": "code",
   "execution_count": 94,
   "id": "615cda7d",
   "metadata": {},
   "outputs": [
    {
     "name": "stdout",
     "output_type": "stream",
     "text": [
      "For the subject HIST, there are 7 pairs of courses that have at least 1 students. The best combination of these is HIST181.\n",
      "{'both_fall': 6.35, 'both_spring': nan, 'fall1': 6.0, 'fall2': nan}\n",
      "There are 6 students who took this combination.\n",
      "We recommend taking both classes, HIST181 and CS167, in the fall.\n",
      "Students who do this have a median success score of 6.35\n",
      "\n",
      "The least favorable strategy is taking HIST181 in the fall and CS167 in the spring.\n",
      "Students who do this have a median success score of 6.0\n",
      "For the subject SOC, there are 3 pairs of courses that have at least 1 students. The best combination of these is SOC278.\n",
      "{'both_fall': 6.3, 'both_spring': nan, 'fall1': 8.0, 'fall2': nan}\n",
      "There are 2 students who took this combination.\n",
      "We recommend taking SOC278 in the fall and CS167 in the spring.\n",
      "Students who do this have a median success score of 8.0\n",
      "\n",
      "The least favorable strategy is taking both classes, SOC278 and CS167, in the fall.\n",
      "Students who do this have a median success score of 6.3\n",
      "For the subject PSYC, there are 2 pairs of courses that have at least 1 students. The best combination of these is PSYC229.\n",
      "{'both_fall': 6.4, 'both_spring': 8.0, 'fall1': nan, 'fall2': nan}\n",
      "There are 2 students who took this combination.\n",
      "We recommend taking both classes, PSYC229 and CS167, in the spring.\n",
      "Students who do this have a median success score of 8.0\n",
      "\n",
      "The least favorable strategy is taking both classes, PSYC229 and CS167, in the fall.\n",
      "Students who do this have a median success score of 6.4\n",
      "For the subject ENGL, there are 5 pairs of courses that have at least 1 students. The best combination of these is ENGL200.\n",
      "{'both_fall': 6.4, 'both_spring': nan, 'fall1': 6.35, 'fall2': nan}\n",
      "There are 3 students who took this combination.\n",
      "We recommend taking both classes, ENGL200 and CS167, in the fall.\n",
      "Students who do this have a median success score of 6.4\n",
      "\n",
      "The least favorable strategy is taking ENGL200 in the fall and CS167 in the spring.\n",
      "Students who do this have a median success score of 6.35\n"
     ]
    }
   ],
   "source": [
    "class2 = {\"Subject\" : \"CS\", \"Course Number\" : 167}\n",
    "\n",
    "required_course_with_desired_subjects(class2, [\"HIST\", \"SOC\", \"PSYC\", \"ENGL\"], min_students = 1)"
   ]
  },
  {
   "cell_type": "code",
   "execution_count": 95,
   "id": "0ab5127e",
   "metadata": {},
   "outputs": [
    {
     "name": "stdout",
     "output_type": "stream",
     "text": [
      "For the subject POL, there were no course pairs that had at least 15 taking the required course.\n",
      "For the subject CHEM, there are 8 pairs of courses that have at least 15 students. The best combination of these is CHEM245.\n",
      "{'both_fall': 6.0, 'both_spring': 6.7, 'fall1': nan, 'fall2': 7.4}\n",
      "There are 45 students who took this combination.\n",
      "We recommend taking BIOL111 in the fall and CHEM245 in the spring.\n",
      "Students who do this have a median success score of 7.4\n",
      "\n",
      "The least favorable strategy is taking both classes, CHEM245 and BIOL111, in the fall.\n",
      "Students who do this have a median success score of 6.0\n",
      "For the subject PSYC, there are 1 pairs of courses that have at least 15 students. The best combination of these is PSYC110.\n",
      "{'both_fall': 7.7, 'both_spring': 6.7, 'fall1': 6.7, 'fall2': 6.4}\n",
      "There are 135 students who took this combination.\n",
      "We recommend taking both classes, PSYC110 and BIOL111, in the fall.\n",
      "Students who do this have a median success score of 7.7\n",
      "\n",
      "The least favorable strategy is taking BIOL111 in the fall and PSYC110 in the spring.\n",
      "Students who do this have a median success score of 6.4\n",
      "For the subject MATH, there are 3 pairs of courses that have at least 15 students. The best combination of these is MATH225.\n",
      "{'both_fall': 5.0, 'both_spring': 6.7, 'fall1': 7.0, 'fall2': 7.3}\n",
      "There are 109 students who took this combination.\n",
      "We recommend taking BIOL111 in the fall and MATH225 in the spring.\n",
      "Students who do this have a median success score of 7.3\n",
      "\n",
      "The least favorable strategy is taking both classes, MATH225 and BIOL111, in the fall.\n",
      "Students who do this have a median success score of 5.0\n"
     ]
    }
   ],
   "source": [
    "class2 = {\"Subject\" : \"BIOL\", \"Course Number\" : 111}\n",
    "\n",
    "required_course_with_desired_subjects(class2, [\"POL\", \"CHEM\", \"PSYC\", \"MATH\"], min_students = 15)"
   ]
  },
  {
   "cell_type": "code",
   "execution_count": 96,
   "id": "32708331",
   "metadata": {},
   "outputs": [
    {
     "name": "stdout",
     "output_type": "stream",
     "text": [
      "For the subject POL, there were no course pairs that had at least 15 taking the required course.\n",
      "For the subject SOC, there are 2 pairs of courses that have at least 15 students. The best combination of these is SOC110.\n",
      "{'both_fall': 6.7, 'both_spring': 7.2, 'fall1': 7.0, 'fall2': 7.85}\n",
      "There are 19 students who took this combination.\n",
      "We recommend taking ENGL150 in the fall and SOC110 in the spring.\n",
      "Students who do this have a median success score of 7.85\n",
      "\n",
      "The least favorable strategy is taking both classes, SOC110 and ENGL150, in the fall.\n",
      "Students who do this have a median success score of 6.7\n",
      "For the subject PSYC, there are 1 pairs of courses that have at least 15 students. The best combination of these is PSYC110.\n",
      "{'both_fall': 7.3, 'both_spring': 6.7, 'fall1': 7.0, 'fall2': 7.35}\n",
      "There are 52 students who took this combination.\n",
      "We recommend taking ENGL150 in the fall and PSYC110 in the spring.\n",
      "Students who do this have a median success score of 7.35\n",
      "\n",
      "The least favorable strategy is taking both classes, PSYC110 and ENGL150, in the spring.\n",
      "Students who do this have a median success score of 6.7\n",
      "For the subject MATH, there are 2 pairs of courses that have at least 15 students. The best combination of these is MATH125.\n",
      "{'both_fall': 6.0, 'both_spring': 7.0, 'fall1': 6.7, 'fall2': 6.4}\n",
      "There are 25 students who took this combination.\n",
      "We recommend taking both classes, MATH125 and ENGL150, in the spring.\n",
      "Students who do this have a median success score of 7.0\n",
      "\n",
      "The least favorable strategy is taking both classes, MATH125 and ENGL150, in the fall.\n",
      "Students who do this have a median success score of 6.0\n"
     ]
    }
   ],
   "source": [
    "class2 = {\"Subject\" : \"ENGL\", \"Course Number\" : 150}\n",
    "\n",
    "required_course_with_desired_subjects(class2, [\"POL\", \"SOC\", \"PSYC\", \"MATH\"], min_students = 15)"
   ]
  },
  {
   "cell_type": "markdown",
   "id": "5879e42b",
   "metadata": {},
   "source": [
    "### Reflection\n",
    "\n",
    "I was really happy with this project. I was worried that the analysis would recommend students to take easy classes or the answers would be predictable, but there was a lot of variety in the outcomes. \n",
    "\n",
    "There were several issues I noticed. Some are systematic and others deal with lack of resources:\n",
    "\n",
    "1) Measuring success. A students GPA is not a measurement of its value, particularly with a grand scope of one's education at Whitman. Likewise, the median added is not a complete metric and has likely produced misleading results. For example, a value of 6.5 doesn't sound too bad, but if students were consistently getting a 4.0 in one class and 2.5 in the other this metric sounds worse.\n",
    "2) Recommending very easy or difficult classes. Recommending \"easy\" classes is a fairly obvious conclusion. I don't think this is bad, as not every class needs to be difficult. However, this project shouldn't be a roundabout way to measure easiness. I also noted that this system will recommend taking hard class like Calc 3 and Advanced Chem because students who took this class did well because they were likely prepared/had experience.\n",
    "3) Scaling to other years. The function of scheduling is very different in later years, as students will tend to make decisions based on what they need rather than what they are purely interested in. Therefore, incorporating student data from later years might change the question (also students gain experience by their sophomore year, so they might be better students compared to first years).\n",
    "4) The more fine-tuned the question, the less data you have. While it would be great to look at Majors v. non-majors and how they schedule their courses, I'm already on thin ice in terms application. If I tried to parce the data more beyond this level, we reach a point where none of it is inferrable. \n",
    "5) Not believing in students to take difficult classes. Finally, I imagine actually using this process might be saying \"Hey, I don't think you should take Calc 2 because your GPA will be 0.4 worse.\" While students may want to know to some degree, too much \"following of the algorithm\" might derail a students curiousity.\n",
    "\n",
    "\n",
    "There are tons of further analysis one could do. I'd be curious to see if there is any similar software at larger universities which may have more data to pull from. My most immediate next step would be to compare different subjects and find the best pairing from there. I could also try to form the best possible given all of the recommendations. The problem is that is no longer a pure highest value comparison, as I should likely take into account the number of students backing the median. I'd also like to do internal comparisons for each recommendation to see if it truly is the best.\n",
    "\n",
    "In terms of Above and Beyond, I'd describe the depth of my functions as going beyond what is required. It took me a long time to figure out the best way to make somewhat scalable functions that were also fairly intuitive in their outcomes.\n"
   ]
  },
  {
   "cell_type": "code",
   "execution_count": null,
   "id": "955e2950",
   "metadata": {},
   "outputs": [],
   "source": []
  }
 ],
 "metadata": {
  "kernelspec": {
   "display_name": "Python 3 (ipykernel)",
   "language": "python",
   "name": "python3"
  },
  "language_info": {
   "codemirror_mode": {
    "name": "ipython",
    "version": 3
   },
   "file_extension": ".py",
   "mimetype": "text/x-python",
   "name": "python",
   "nbconvert_exporter": "python",
   "pygments_lexer": "ipython3",
   "version": "3.11.4"
  }
 },
 "nbformat": 4,
 "nbformat_minor": 5
}
